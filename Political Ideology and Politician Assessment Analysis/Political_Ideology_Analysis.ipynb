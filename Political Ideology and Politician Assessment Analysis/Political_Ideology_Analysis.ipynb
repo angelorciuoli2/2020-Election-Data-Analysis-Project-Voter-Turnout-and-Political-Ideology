{
  "nbformat": 4,
  "nbformat_minor": 0,
  "metadata": {
    "colab": {
      "provenance": []
    },
    "kernelspec": {
      "name": "python3",
      "display_name": "Python 3"
    },
    "language_info": {
      "name": "python"
    }
  },
  "cells": [
    {
      "cell_type": "markdown",
      "source": [
        "# Political Ideology and Politician Assessment Analysis"
      ],
      "metadata": {
        "id": "XYLcxcWQTyqk"
      }
    },
    {
      "cell_type": "markdown",
      "source": [
        "### Overview\n",
        "\n",
        "In this project, I analyze how self-assessed ideology and demographics predict assessments of politicians' ideologies using data from the 2020 Cooperative Election Study (CES). The analysis focuses on survey questions from before the 2020 election."
      ],
      "metadata": {
        "id": "4lKru3q3T-HC"
      }
    },
    {
      "cell_type": "markdown",
      "source": [
        "###Step 1: Loading the CES Data\n",
        "\n",
        "\n",
        "*   The CES2020_extract2.csv dataset is loaded, which includes questions about respondents' evaluations of various political figures' ideologies. The variable CC20_340a captures self-assessed ideology, with CC20_340a == 8 indicating respondents unsure of their ideology. Respondents with this answer are excluded from all analyses.\n",
        "\n",
        "\n",
        "*   I created a plot to visualize the distribution of self-assessed ideology. The distribution shows that identifying as the middle of the political spectrum is the most popular response, while 'somewhat' columns are the least common responses.\n",
        "\n",
        "\n"
      ],
      "metadata": {
        "id": "PMVkzjXnrIWA"
      }
    },
    {
      "cell_type": "code",
      "execution_count": null,
      "metadata": {
        "colab": {
          "base_uri": "https://localhost:8080/",
          "height": 74
        },
        "id": "K5ETJoNsTuyU",
        "outputId": "2a44c7b9-f63b-45e7-e950-b728f2b94523"
      },
      "outputs": [
        {
          "output_type": "display_data",
          "data": {
            "text/plain": [
              "<IPython.core.display.HTML object>"
            ],
            "text/html": [
              "\n",
              "     <input type=\"file\" id=\"files-23dba54a-07f4-4410-94a6-ce0c037b2530\" name=\"files[]\" multiple disabled\n",
              "        style=\"border:none\" />\n",
              "     <output id=\"result-23dba54a-07f4-4410-94a6-ce0c037b2530\">\n",
              "      Upload widget is only available when the cell has been executed in the\n",
              "      current browser session. Please rerun this cell to enable.\n",
              "      </output>\n",
              "      <script>// Copyright 2017 Google LLC\n",
              "//\n",
              "// Licensed under the Apache License, Version 2.0 (the \"License\");\n",
              "// you may not use this file except in compliance with the License.\n",
              "// You may obtain a copy of the License at\n",
              "//\n",
              "//      http://www.apache.org/licenses/LICENSE-2.0\n",
              "//\n",
              "// Unless required by applicable law or agreed to in writing, software\n",
              "// distributed under the License is distributed on an \"AS IS\" BASIS,\n",
              "// WITHOUT WARRANTIES OR CONDITIONS OF ANY KIND, either express or implied.\n",
              "// See the License for the specific language governing permissions and\n",
              "// limitations under the License.\n",
              "\n",
              "/**\n",
              " * @fileoverview Helpers for google.colab Python module.\n",
              " */\n",
              "(function(scope) {\n",
              "function span(text, styleAttributes = {}) {\n",
              "  const element = document.createElement('span');\n",
              "  element.textContent = text;\n",
              "  for (const key of Object.keys(styleAttributes)) {\n",
              "    element.style[key] = styleAttributes[key];\n",
              "  }\n",
              "  return element;\n",
              "}\n",
              "\n",
              "// Max number of bytes which will be uploaded at a time.\n",
              "const MAX_PAYLOAD_SIZE = 100 * 1024;\n",
              "\n",
              "function _uploadFiles(inputId, outputId) {\n",
              "  const steps = uploadFilesStep(inputId, outputId);\n",
              "  const outputElement = document.getElementById(outputId);\n",
              "  // Cache steps on the outputElement to make it available for the next call\n",
              "  // to uploadFilesContinue from Python.\n",
              "  outputElement.steps = steps;\n",
              "\n",
              "  return _uploadFilesContinue(outputId);\n",
              "}\n",
              "\n",
              "// This is roughly an async generator (not supported in the browser yet),\n",
              "// where there are multiple asynchronous steps and the Python side is going\n",
              "// to poll for completion of each step.\n",
              "// This uses a Promise to block the python side on completion of each step,\n",
              "// then passes the result of the previous step as the input to the next step.\n",
              "function _uploadFilesContinue(outputId) {\n",
              "  const outputElement = document.getElementById(outputId);\n",
              "  const steps = outputElement.steps;\n",
              "\n",
              "  const next = steps.next(outputElement.lastPromiseValue);\n",
              "  return Promise.resolve(next.value.promise).then((value) => {\n",
              "    // Cache the last promise value to make it available to the next\n",
              "    // step of the generator.\n",
              "    outputElement.lastPromiseValue = value;\n",
              "    return next.value.response;\n",
              "  });\n",
              "}\n",
              "\n",
              "/**\n",
              " * Generator function which is called between each async step of the upload\n",
              " * process.\n",
              " * @param {string} inputId Element ID of the input file picker element.\n",
              " * @param {string} outputId Element ID of the output display.\n",
              " * @return {!Iterable<!Object>} Iterable of next steps.\n",
              " */\n",
              "function* uploadFilesStep(inputId, outputId) {\n",
              "  const inputElement = document.getElementById(inputId);\n",
              "  inputElement.disabled = false;\n",
              "\n",
              "  const outputElement = document.getElementById(outputId);\n",
              "  outputElement.innerHTML = '';\n",
              "\n",
              "  const pickedPromise = new Promise((resolve) => {\n",
              "    inputElement.addEventListener('change', (e) => {\n",
              "      resolve(e.target.files);\n",
              "    });\n",
              "  });\n",
              "\n",
              "  const cancel = document.createElement('button');\n",
              "  inputElement.parentElement.appendChild(cancel);\n",
              "  cancel.textContent = 'Cancel upload';\n",
              "  const cancelPromise = new Promise((resolve) => {\n",
              "    cancel.onclick = () => {\n",
              "      resolve(null);\n",
              "    };\n",
              "  });\n",
              "\n",
              "  // Wait for the user to pick the files.\n",
              "  const files = yield {\n",
              "    promise: Promise.race([pickedPromise, cancelPromise]),\n",
              "    response: {\n",
              "      action: 'starting',\n",
              "    }\n",
              "  };\n",
              "\n",
              "  cancel.remove();\n",
              "\n",
              "  // Disable the input element since further picks are not allowed.\n",
              "  inputElement.disabled = true;\n",
              "\n",
              "  if (!files) {\n",
              "    return {\n",
              "      response: {\n",
              "        action: 'complete',\n",
              "      }\n",
              "    };\n",
              "  }\n",
              "\n",
              "  for (const file of files) {\n",
              "    const li = document.createElement('li');\n",
              "    li.append(span(file.name, {fontWeight: 'bold'}));\n",
              "    li.append(span(\n",
              "        `(${file.type || 'n/a'}) - ${file.size} bytes, ` +\n",
              "        `last modified: ${\n",
              "            file.lastModifiedDate ? file.lastModifiedDate.toLocaleDateString() :\n",
              "                                    'n/a'} - `));\n",
              "    const percent = span('0% done');\n",
              "    li.appendChild(percent);\n",
              "\n",
              "    outputElement.appendChild(li);\n",
              "\n",
              "    const fileDataPromise = new Promise((resolve) => {\n",
              "      const reader = new FileReader();\n",
              "      reader.onload = (e) => {\n",
              "        resolve(e.target.result);\n",
              "      };\n",
              "      reader.readAsArrayBuffer(file);\n",
              "    });\n",
              "    // Wait for the data to be ready.\n",
              "    let fileData = yield {\n",
              "      promise: fileDataPromise,\n",
              "      response: {\n",
              "        action: 'continue',\n",
              "      }\n",
              "    };\n",
              "\n",
              "    // Use a chunked sending to avoid message size limits. See b/62115660.\n",
              "    let position = 0;\n",
              "    do {\n",
              "      const length = Math.min(fileData.byteLength - position, MAX_PAYLOAD_SIZE);\n",
              "      const chunk = new Uint8Array(fileData, position, length);\n",
              "      position += length;\n",
              "\n",
              "      const base64 = btoa(String.fromCharCode.apply(null, chunk));\n",
              "      yield {\n",
              "        response: {\n",
              "          action: 'append',\n",
              "          file: file.name,\n",
              "          data: base64,\n",
              "        },\n",
              "      };\n",
              "\n",
              "      let percentDone = fileData.byteLength === 0 ?\n",
              "          100 :\n",
              "          Math.round((position / fileData.byteLength) * 100);\n",
              "      percent.textContent = `${percentDone}% done`;\n",
              "\n",
              "    } while (position < fileData.byteLength);\n",
              "  }\n",
              "\n",
              "  // All done.\n",
              "  yield {\n",
              "    response: {\n",
              "      action: 'complete',\n",
              "    }\n",
              "  };\n",
              "}\n",
              "\n",
              "scope.google = scope.google || {};\n",
              "scope.google.colab = scope.google.colab || {};\n",
              "scope.google.colab._files = {\n",
              "  _uploadFiles,\n",
              "  _uploadFilesContinue,\n",
              "};\n",
              "})(self);\n",
              "</script> "
            ]
          },
          "metadata": {}
        },
        {
          "output_type": "stream",
          "name": "stdout",
          "text": [
            "Saving CES2020_extract2.csv to CES2020_extract2.csv\n"
          ]
        }
      ],
      "source": [
        "import pandas as pd\n",
        "import matplotlib.pyplot as plt\n",
        "import numpy as np\n",
        "from google.colab import files\n",
        "import io\n",
        "\n",
        "uploaded = files.upload()"
      ]
    },
    {
      "cell_type": "code",
      "source": [
        "df = pd.read_csv(io.BytesIO(uploaded['CES2020_extract2.csv']))\n",
        "df"
      ],
      "metadata": {
        "id": "B2-TSBrwUFNl",
        "colab": {
          "base_uri": "https://localhost:8080/",
          "height": 488
        },
        "outputId": "8d7bfb39-9cba-4b5f-9274-2353dc50321b"
      },
      "execution_count": null,
      "outputs": [
        {
          "output_type": "execute_result",
          "data": {
            "text/plain": [
              "           caseid  commonweight  commonpostweight  vvweight  vvweight_post  \\\n",
              "0      1232318697      0.782510          0.665971  0.850917       0.606593   \n",
              "1      1231394915      1.344424          1.435594       NaN            NaN   \n",
              "2      1232451503      0.405520          0.342454       NaN            NaN   \n",
              "3      1232494791      0.957734          0.822106  1.041459       1.002495   \n",
              "4      1232494829      0.194665          0.161725       NaN            NaN   \n",
              "...           ...           ...               ...       ...            ...   \n",
              "60995  1199586597      1.790207               NaN       NaN            NaN   \n",
              "60996  1261249927      1.163522          2.534721  1.265236       2.908672   \n",
              "60997  1261247715      1.576016          1.489458  1.713790       1.460657   \n",
              "60998  1257274335      1.007719               NaN  1.095813            NaN   \n",
              "60999  1261243127      0.739256          0.997857  0.803882       1.388434   \n",
              "\n",
              "       birthyr  gender  educ  race race_other  ...  ideo5  votereg_post  \\\n",
              "0         1966       1     4     1     __NA__  ...    4.0           1.0   \n",
              "1         1955       2     6     1     __NA__  ...    1.0           2.0   \n",
              "2         1946       2     5     1     __NA__  ...    3.0           1.0   \n",
              "3         1962       2     5     1     __NA__  ...    3.0           1.0   \n",
              "4         1967       1     5     1     __NA__  ...    3.0           1.0   \n",
              "...        ...     ...   ...   ...        ...  ...    ...           ...   \n",
              "60995     1978       1     2     1     __NA__  ...    2.0           NaN   \n",
              "60996     1993       1     3     1     __NA__  ...    1.0           1.0   \n",
              "60997     1959       1     2     1     __NA__  ...    3.0           1.0   \n",
              "60998     1996       1     3     6     __NA__  ...    3.0           NaN   \n",
              "60999     1985       1     2     1     __NA__  ...    1.0           1.0   \n",
              "\n",
              "       inputstate_post  CC20_401  CC20_402a  CC20_402b  CC20_403  CC20_410  \\\n",
              "0                  9.0       5.0        NaN        NaN       3.0       2.0   \n",
              "1                 12.0       NaN       17.0        NaN       NaN       NaN   \n",
              "2                 19.0       5.0        NaN        NaN       3.0       1.0   \n",
              "3                 25.0       5.0        NaN        NaN       3.0       1.0   \n",
              "4                 17.0       5.0        NaN        NaN       3.0       4.0   \n",
              "...                ...       ...        ...        ...       ...       ...   \n",
              "60995              NaN       NaN        NaN        NaN       NaN       NaN   \n",
              "60996             41.0       5.0        NaN        NaN       3.0       1.0   \n",
              "60997             19.0       5.0        NaN        NaN       1.0       2.0   \n",
              "60998              NaN       NaN        NaN        NaN       NaN       NaN   \n",
              "60999             39.0       5.0        NaN        NaN       3.0       4.0   \n",
              "\n",
              "       CL_2020gvm  CL_voter_status  \n",
              "0             1.0              1.0  \n",
              "1             NaN              2.0  \n",
              "2             NaN              NaN  \n",
              "3             5.0              1.0  \n",
              "4             NaN              NaN  \n",
              "...           ...              ...  \n",
              "60995         NaN              NaN  \n",
              "60996         3.0              1.0  \n",
              "60997         4.0              1.0  \n",
              "60998         2.0              1.0  \n",
              "60999         3.0              1.0  \n",
              "\n",
              "[61000 rows x 57 columns]"
            ],
            "text/html": [
              "\n",
              "  <div id=\"df-331bca7c-2020-400f-9929-4a02f3198a4a\">\n",
              "    <div class=\"colab-df-container\">\n",
              "      <div>\n",
              "<style scoped>\n",
              "    .dataframe tbody tr th:only-of-type {\n",
              "        vertical-align: middle;\n",
              "    }\n",
              "\n",
              "    .dataframe tbody tr th {\n",
              "        vertical-align: top;\n",
              "    }\n",
              "\n",
              "    .dataframe thead th {\n",
              "        text-align: right;\n",
              "    }\n",
              "</style>\n",
              "<table border=\"1\" class=\"dataframe\">\n",
              "  <thead>\n",
              "    <tr style=\"text-align: right;\">\n",
              "      <th></th>\n",
              "      <th>caseid</th>\n",
              "      <th>commonweight</th>\n",
              "      <th>commonpostweight</th>\n",
              "      <th>vvweight</th>\n",
              "      <th>vvweight_post</th>\n",
              "      <th>birthyr</th>\n",
              "      <th>gender</th>\n",
              "      <th>educ</th>\n",
              "      <th>race</th>\n",
              "      <th>race_other</th>\n",
              "      <th>...</th>\n",
              "      <th>ideo5</th>\n",
              "      <th>votereg_post</th>\n",
              "      <th>inputstate_post</th>\n",
              "      <th>CC20_401</th>\n",
              "      <th>CC20_402a</th>\n",
              "      <th>CC20_402b</th>\n",
              "      <th>CC20_403</th>\n",
              "      <th>CC20_410</th>\n",
              "      <th>CL_2020gvm</th>\n",
              "      <th>CL_voter_status</th>\n",
              "    </tr>\n",
              "  </thead>\n",
              "  <tbody>\n",
              "    <tr>\n",
              "      <th>0</th>\n",
              "      <td>1232318697</td>\n",
              "      <td>0.782510</td>\n",
              "      <td>0.665971</td>\n",
              "      <td>0.850917</td>\n",
              "      <td>0.606593</td>\n",
              "      <td>1966</td>\n",
              "      <td>1</td>\n",
              "      <td>4</td>\n",
              "      <td>1</td>\n",
              "      <td>__NA__</td>\n",
              "      <td>...</td>\n",
              "      <td>4.0</td>\n",
              "      <td>1.0</td>\n",
              "      <td>9.0</td>\n",
              "      <td>5.0</td>\n",
              "      <td>NaN</td>\n",
              "      <td>NaN</td>\n",
              "      <td>3.0</td>\n",
              "      <td>2.0</td>\n",
              "      <td>1.0</td>\n",
              "      <td>1.0</td>\n",
              "    </tr>\n",
              "    <tr>\n",
              "      <th>1</th>\n",
              "      <td>1231394915</td>\n",
              "      <td>1.344424</td>\n",
              "      <td>1.435594</td>\n",
              "      <td>NaN</td>\n",
              "      <td>NaN</td>\n",
              "      <td>1955</td>\n",
              "      <td>2</td>\n",
              "      <td>6</td>\n",
              "      <td>1</td>\n",
              "      <td>__NA__</td>\n",
              "      <td>...</td>\n",
              "      <td>1.0</td>\n",
              "      <td>2.0</td>\n",
              "      <td>12.0</td>\n",
              "      <td>NaN</td>\n",
              "      <td>17.0</td>\n",
              "      <td>NaN</td>\n",
              "      <td>NaN</td>\n",
              "      <td>NaN</td>\n",
              "      <td>NaN</td>\n",
              "      <td>2.0</td>\n",
              "    </tr>\n",
              "    <tr>\n",
              "      <th>2</th>\n",
              "      <td>1232451503</td>\n",
              "      <td>0.405520</td>\n",
              "      <td>0.342454</td>\n",
              "      <td>NaN</td>\n",
              "      <td>NaN</td>\n",
              "      <td>1946</td>\n",
              "      <td>2</td>\n",
              "      <td>5</td>\n",
              "      <td>1</td>\n",
              "      <td>__NA__</td>\n",
              "      <td>...</td>\n",
              "      <td>3.0</td>\n",
              "      <td>1.0</td>\n",
              "      <td>19.0</td>\n",
              "      <td>5.0</td>\n",
              "      <td>NaN</td>\n",
              "      <td>NaN</td>\n",
              "      <td>3.0</td>\n",
              "      <td>1.0</td>\n",
              "      <td>NaN</td>\n",
              "      <td>NaN</td>\n",
              "    </tr>\n",
              "    <tr>\n",
              "      <th>3</th>\n",
              "      <td>1232494791</td>\n",
              "      <td>0.957734</td>\n",
              "      <td>0.822106</td>\n",
              "      <td>1.041459</td>\n",
              "      <td>1.002495</td>\n",
              "      <td>1962</td>\n",
              "      <td>2</td>\n",
              "      <td>5</td>\n",
              "      <td>1</td>\n",
              "      <td>__NA__</td>\n",
              "      <td>...</td>\n",
              "      <td>3.0</td>\n",
              "      <td>1.0</td>\n",
              "      <td>25.0</td>\n",
              "      <td>5.0</td>\n",
              "      <td>NaN</td>\n",
              "      <td>NaN</td>\n",
              "      <td>3.0</td>\n",
              "      <td>1.0</td>\n",
              "      <td>5.0</td>\n",
              "      <td>1.0</td>\n",
              "    </tr>\n",
              "    <tr>\n",
              "      <th>4</th>\n",
              "      <td>1232494829</td>\n",
              "      <td>0.194665</td>\n",
              "      <td>0.161725</td>\n",
              "      <td>NaN</td>\n",
              "      <td>NaN</td>\n",
              "      <td>1967</td>\n",
              "      <td>1</td>\n",
              "      <td>5</td>\n",
              "      <td>1</td>\n",
              "      <td>__NA__</td>\n",
              "      <td>...</td>\n",
              "      <td>3.0</td>\n",
              "      <td>1.0</td>\n",
              "      <td>17.0</td>\n",
              "      <td>5.0</td>\n",
              "      <td>NaN</td>\n",
              "      <td>NaN</td>\n",
              "      <td>3.0</td>\n",
              "      <td>4.0</td>\n",
              "      <td>NaN</td>\n",
              "      <td>NaN</td>\n",
              "    </tr>\n",
              "    <tr>\n",
              "      <th>...</th>\n",
              "      <td>...</td>\n",
              "      <td>...</td>\n",
              "      <td>...</td>\n",
              "      <td>...</td>\n",
              "      <td>...</td>\n",
              "      <td>...</td>\n",
              "      <td>...</td>\n",
              "      <td>...</td>\n",
              "      <td>...</td>\n",
              "      <td>...</td>\n",
              "      <td>...</td>\n",
              "      <td>...</td>\n",
              "      <td>...</td>\n",
              "      <td>...</td>\n",
              "      <td>...</td>\n",
              "      <td>...</td>\n",
              "      <td>...</td>\n",
              "      <td>...</td>\n",
              "      <td>...</td>\n",
              "      <td>...</td>\n",
              "      <td>...</td>\n",
              "    </tr>\n",
              "    <tr>\n",
              "      <th>60995</th>\n",
              "      <td>1199586597</td>\n",
              "      <td>1.790207</td>\n",
              "      <td>NaN</td>\n",
              "      <td>NaN</td>\n",
              "      <td>NaN</td>\n",
              "      <td>1978</td>\n",
              "      <td>1</td>\n",
              "      <td>2</td>\n",
              "      <td>1</td>\n",
              "      <td>__NA__</td>\n",
              "      <td>...</td>\n",
              "      <td>2.0</td>\n",
              "      <td>NaN</td>\n",
              "      <td>NaN</td>\n",
              "      <td>NaN</td>\n",
              "      <td>NaN</td>\n",
              "      <td>NaN</td>\n",
              "      <td>NaN</td>\n",
              "      <td>NaN</td>\n",
              "      <td>NaN</td>\n",
              "      <td>NaN</td>\n",
              "    </tr>\n",
              "    <tr>\n",
              "      <th>60996</th>\n",
              "      <td>1261249927</td>\n",
              "      <td>1.163522</td>\n",
              "      <td>2.534721</td>\n",
              "      <td>1.265236</td>\n",
              "      <td>2.908672</td>\n",
              "      <td>1993</td>\n",
              "      <td>1</td>\n",
              "      <td>3</td>\n",
              "      <td>1</td>\n",
              "      <td>__NA__</td>\n",
              "      <td>...</td>\n",
              "      <td>1.0</td>\n",
              "      <td>1.0</td>\n",
              "      <td>41.0</td>\n",
              "      <td>5.0</td>\n",
              "      <td>NaN</td>\n",
              "      <td>NaN</td>\n",
              "      <td>3.0</td>\n",
              "      <td>1.0</td>\n",
              "      <td>3.0</td>\n",
              "      <td>1.0</td>\n",
              "    </tr>\n",
              "    <tr>\n",
              "      <th>60997</th>\n",
              "      <td>1261247715</td>\n",
              "      <td>1.576016</td>\n",
              "      <td>1.489458</td>\n",
              "      <td>1.713790</td>\n",
              "      <td>1.460657</td>\n",
              "      <td>1959</td>\n",
              "      <td>1</td>\n",
              "      <td>2</td>\n",
              "      <td>1</td>\n",
              "      <td>__NA__</td>\n",
              "      <td>...</td>\n",
              "      <td>3.0</td>\n",
              "      <td>1.0</td>\n",
              "      <td>19.0</td>\n",
              "      <td>5.0</td>\n",
              "      <td>NaN</td>\n",
              "      <td>NaN</td>\n",
              "      <td>1.0</td>\n",
              "      <td>2.0</td>\n",
              "      <td>4.0</td>\n",
              "      <td>1.0</td>\n",
              "    </tr>\n",
              "    <tr>\n",
              "      <th>60998</th>\n",
              "      <td>1257274335</td>\n",
              "      <td>1.007719</td>\n",
              "      <td>NaN</td>\n",
              "      <td>1.095813</td>\n",
              "      <td>NaN</td>\n",
              "      <td>1996</td>\n",
              "      <td>1</td>\n",
              "      <td>3</td>\n",
              "      <td>6</td>\n",
              "      <td>__NA__</td>\n",
              "      <td>...</td>\n",
              "      <td>3.0</td>\n",
              "      <td>NaN</td>\n",
              "      <td>NaN</td>\n",
              "      <td>NaN</td>\n",
              "      <td>NaN</td>\n",
              "      <td>NaN</td>\n",
              "      <td>NaN</td>\n",
              "      <td>NaN</td>\n",
              "      <td>2.0</td>\n",
              "      <td>1.0</td>\n",
              "    </tr>\n",
              "    <tr>\n",
              "      <th>60999</th>\n",
              "      <td>1261243127</td>\n",
              "      <td>0.739256</td>\n",
              "      <td>0.997857</td>\n",
              "      <td>0.803882</td>\n",
              "      <td>1.388434</td>\n",
              "      <td>1985</td>\n",
              "      <td>1</td>\n",
              "      <td>2</td>\n",
              "      <td>1</td>\n",
              "      <td>__NA__</td>\n",
              "      <td>...</td>\n",
              "      <td>1.0</td>\n",
              "      <td>1.0</td>\n",
              "      <td>39.0</td>\n",
              "      <td>5.0</td>\n",
              "      <td>NaN</td>\n",
              "      <td>NaN</td>\n",
              "      <td>3.0</td>\n",
              "      <td>4.0</td>\n",
              "      <td>3.0</td>\n",
              "      <td>1.0</td>\n",
              "    </tr>\n",
              "  </tbody>\n",
              "</table>\n",
              "<p>61000 rows × 57 columns</p>\n",
              "</div>\n",
              "      <button class=\"colab-df-convert\" onclick=\"convertToInteractive('df-331bca7c-2020-400f-9929-4a02f3198a4a')\"\n",
              "              title=\"Convert this dataframe to an interactive table.\"\n",
              "              style=\"display:none;\">\n",
              "        \n",
              "  <svg xmlns=\"http://www.w3.org/2000/svg\" height=\"24px\"viewBox=\"0 0 24 24\"\n",
              "       width=\"24px\">\n",
              "    <path d=\"M0 0h24v24H0V0z\" fill=\"none\"/>\n",
              "    <path d=\"M18.56 5.44l.94 2.06.94-2.06 2.06-.94-2.06-.94-.94-2.06-.94 2.06-2.06.94zm-11 1L8.5 8.5l.94-2.06 2.06-.94-2.06-.94L8.5 2.5l-.94 2.06-2.06.94zm10 10l.94 2.06.94-2.06 2.06-.94-2.06-.94-.94-2.06-.94 2.06-2.06.94z\"/><path d=\"M17.41 7.96l-1.37-1.37c-.4-.4-.92-.59-1.43-.59-.52 0-1.04.2-1.43.59L10.3 9.45l-7.72 7.72c-.78.78-.78 2.05 0 2.83L4 21.41c.39.39.9.59 1.41.59.51 0 1.02-.2 1.41-.59l7.78-7.78 2.81-2.81c.8-.78.8-2.07 0-2.86zM5.41 20L4 18.59l7.72-7.72 1.47 1.35L5.41 20z\"/>\n",
              "  </svg>\n",
              "      </button>\n",
              "      \n",
              "  <style>\n",
              "    .colab-df-container {\n",
              "      display:flex;\n",
              "      flex-wrap:wrap;\n",
              "      gap: 12px;\n",
              "    }\n",
              "\n",
              "    .colab-df-convert {\n",
              "      background-color: #E8F0FE;\n",
              "      border: none;\n",
              "      border-radius: 50%;\n",
              "      cursor: pointer;\n",
              "      display: none;\n",
              "      fill: #1967D2;\n",
              "      height: 32px;\n",
              "      padding: 0 0 0 0;\n",
              "      width: 32px;\n",
              "    }\n",
              "\n",
              "    .colab-df-convert:hover {\n",
              "      background-color: #E2EBFA;\n",
              "      box-shadow: 0px 1px 2px rgba(60, 64, 67, 0.3), 0px 1px 3px 1px rgba(60, 64, 67, 0.15);\n",
              "      fill: #174EA6;\n",
              "    }\n",
              "\n",
              "    [theme=dark] .colab-df-convert {\n",
              "      background-color: #3B4455;\n",
              "      fill: #D2E3FC;\n",
              "    }\n",
              "\n",
              "    [theme=dark] .colab-df-convert:hover {\n",
              "      background-color: #434B5C;\n",
              "      box-shadow: 0px 1px 3px 1px rgba(0, 0, 0, 0.15);\n",
              "      filter: drop-shadow(0px 1px 2px rgba(0, 0, 0, 0.3));\n",
              "      fill: #FFFFFF;\n",
              "    }\n",
              "  </style>\n",
              "\n",
              "      <script>\n",
              "        const buttonEl =\n",
              "          document.querySelector('#df-331bca7c-2020-400f-9929-4a02f3198a4a button.colab-df-convert');\n",
              "        buttonEl.style.display =\n",
              "          google.colab.kernel.accessAllowed ? 'block' : 'none';\n",
              "\n",
              "        async function convertToInteractive(key) {\n",
              "          const element = document.querySelector('#df-331bca7c-2020-400f-9929-4a02f3198a4a');\n",
              "          const dataTable =\n",
              "            await google.colab.kernel.invokeFunction('convertToInteractive',\n",
              "                                                     [key], {});\n",
              "          if (!dataTable) return;\n",
              "\n",
              "          const docLinkHtml = 'Like what you see? Visit the ' +\n",
              "            '<a target=\"_blank\" href=https://colab.research.google.com/notebooks/data_table.ipynb>data table notebook</a>'\n",
              "            + ' to learn more about interactive tables.';\n",
              "          element.innerHTML = '';\n",
              "          dataTable['output_type'] = 'display_data';\n",
              "          await google.colab.output.renderOutput(dataTable, element);\n",
              "          const docLink = document.createElement('div');\n",
              "          docLink.innerHTML = docLinkHtml;\n",
              "          element.appendChild(docLink);\n",
              "        }\n",
              "      </script>\n",
              "    </div>\n",
              "  </div>\n",
              "  "
            ]
          },
          "metadata": {},
          "execution_count": 2
        }
      ]
    },
    {
      "cell_type": "code",
      "source": [
        "df1 = df[df['CC20_340a'] != 8] #dropping respondents with unsure political ideology\n",
        "df1.dropna(subset=['CC20_340a'], inplace=True) #drops null values\n",
        "\n",
        "fig, ax = plt.subplots()\n",
        "#Distribution of self-assessed ideology\n",
        "\n",
        "weighted_ideo = df1.groupby('CC20_340a')['commonweight'].sum()\n",
        "ax.bar(weighted_ideo.index, weighted_ideo.values)\n",
        "new_x_ticks = ['V lib', 'Lib', 'Some Lib', 'Middle', 'Some Cons', 'Cons', 'V Cons']\n",
        "ax.set_xticks(weighted_ideo.index)\n",
        "ax.set_xticklabels(new_x_ticks)\n",
        "\n",
        "# add labels and title\n",
        "plt.xlabel('Political Affiliation')\n",
        "plt.ylabel('Number of Respondents')\n",
        "plt.title('Count of self-assessed ideology')\n"
      ],
      "metadata": {
        "colab": {
          "base_uri": "https://localhost:8080/",
          "height": 402
        },
        "id": "iPYHsqKzWBxp",
        "outputId": "c6ab517d-e3ce-44f6-ff16-6610f17596ec"
      },
      "execution_count": null,
      "outputs": [
        {
          "output_type": "stream",
          "name": "stderr",
          "text": [
            "/usr/local/lib/python3.8/dist-packages/pandas/util/_decorators.py:311: SettingWithCopyWarning: \n",
            "A value is trying to be set on a copy of a slice from a DataFrame\n",
            "\n",
            "See the caveats in the documentation: https://pandas.pydata.org/pandas-docs/stable/user_guide/indexing.html#returning-a-view-versus-a-copy\n",
            "  return func(*args, **kwargs)\n"
          ]
        },
        {
          "output_type": "execute_result",
          "data": {
            "text/plain": [
              "Text(0.5, 1.0, 'Count of self-assessed ideology')"
            ]
          },
          "metadata": {},
          "execution_count": 3
        },
        {
          "output_type": "display_data",
          "data": {
            "text/plain": [
              "<Figure size 432x288 with 1 Axes>"
            ],
            "image/png": "[encoded data removed]"
          },
          "metadata": {
            "needs_background": "light"
          }
        }
      ]
    },
    {
      "cell_type": "markdown",
      "source": [
        "### Step 2: Analyzing Ideological Ratings of Joe Biden and Donald Trump\n",
        "\n",
        "Variables CC20_340c and CC20_340d capture respondents’ ideological ratings of Joe Biden and Donald Trump, respectively. I created plots showing the distributions of these ratings."
      ],
      "metadata": {
        "id": "SA2I3-IeeIw2"
      }
    },
    {
      "cell_type": "code",
      "source": [
        "#Joe Biden Distribution\n",
        "df2 = df[df['CC20_340c'] != 8] #gets red of unsure ratings for Joe Biden\n",
        "df2.dropna(subset=['CC20_340c'], inplace=True)\n",
        "\n",
        "fig, ax = plt.subplots()\n",
        "#Distribution of self-assessed ideology\n",
        "joe_weighted = df2.groupby('CC20_340c')['commonweight'].sum()\n",
        "\n",
        "ax.bar(joe_weighted.index, joe_weighted.values)\n",
        "new_x_ticks = ['V lib', 'Lib', 'Some Lib', 'Middle', 'Some Cons', 'Cons', 'V Cons']\n",
        "ax.set_xticks(joe_weighted.index)\n",
        "ax.set_xticklabels(new_x_ticks)\n",
        "\n",
        "# add labels and title\n",
        "plt.xlabel('Political Affiliation')\n",
        "plt.ylabel('Number of Respondents')\n",
        "plt.title('Respondent’s Ideological Ratings of Joe Biden')"
      ],
      "metadata": {
        "id": "H9vBhdJYfmb7",
        "colab": {
          "base_uri": "https://localhost:8080/",
          "height": 313
        },
        "outputId": "e159def4-8e9c-4b00-f6d7-f8b92cf2ec84"
      },
      "execution_count": null,
      "outputs": [
        {
          "output_type": "execute_result",
          "data": {
            "text/plain": [
              "Text(0.5, 1.0, 'Respondent’s Ideological Ratings of Joe Biden')"
            ]
          },
          "metadata": {},
          "execution_count": 4
        },
        {
          "output_type": "display_data",
          "data": {
            "text/plain": [
              "<Figure size 432x288 with 1 Axes>"
            ],
            "image/png": "[encoded data removed]"
          },
          "metadata": {
            "needs_background": "light"
          }
        }
      ]
    },
    {
      "cell_type": "code",
      "source": [
        "#Donald Trump Distribution\n",
        "df3 = df[df['CC20_340d'] != 8] #gets red of unsure ratings for Donald Trump\n",
        "df3.dropna(subset=['CC20_340d'], inplace=True)\n",
        "\n",
        "fig, ax = plt.subplots()\n",
        "#Distribution of self-assessed ideology\n",
        "trump_weighted = df3.groupby('CC20_340d')['commonweight'].sum()\n",
        "\n",
        "ax.bar(trump_weighted.index, trump_weighted.values)\n",
        "new_x_ticks = ['V lib', 'Lib', 'Some Lib', 'Middle', 'Some Cons', 'Cons', 'V Cons']\n",
        "ax.set_xticks(trump_weighted.index)\n",
        "ax.set_xticklabels(new_x_ticks)\n",
        "\n",
        "# add labels and title\n",
        "plt.xlabel('Political Affiliation')\n",
        "plt.ylabel('Number of Respondents')\n",
        "plt.title('Respondent’s Ideological Ratings of Donald Trump')"
      ],
      "metadata": {
        "id": "cYB0kq3TgMdS",
        "colab": {
          "base_uri": "https://localhost:8080/",
          "height": 313
        },
        "outputId": "f47759e9-f549-47c3-d76f-bcb0b08cdca1"
      },
      "execution_count": null,
      "outputs": [
        {
          "output_type": "execute_result",
          "data": {
            "text/plain": [
              "Text(0.5, 1.0, 'Respondent’s Ideological Ratings of Donald Trump')"
            ]
          },
          "metadata": {},
          "execution_count": 5
        },
        {
          "output_type": "display_data",
          "data": {
            "text/plain": [
              "<Figure size 432x288 with 1 Axes>"
            ],
            "image/png": "[encoded data removed]"
          },
          "metadata": {
            "needs_background": "light"
          }
        }
      ]
    },
    {
      "cell_type": "markdown",
      "source": [
        "### Step 3: Predicting Ideological Rating of Joe Biden\n",
        "\n",
        "\n",
        "\n",
        "\n",
        "*   To understand how a respondent’s personal ideology predicts their ideological rating of Joe Biden, I estimated a linear regression with the dependent variable being Biden's ideological rating and the independent variable being the self-assessed ideology. The regression is weighted by commonweight, and respondents unsure of their rating are excluded.\n",
        "\n",
        "\n",
        "*   The results show that most people classify Biden as no more conservative than the middle of the political spectrum. The regression indicates that the more conservative an individual is, the more liberal they tend to perceive Biden.\n",
        "\n"
      ],
      "metadata": {
        "id": "Xlgzh_0-LWd2"
      }
    },
    {
      "cell_type": "code",
      "source": [
        "import pandas as pd\n",
        "import statsmodels.api as sm\n",
        "import matplotlib.pyplot as plt\n",
        "\n",
        "joe_regression = df[(df['CC20_340a'] != 8) & (df['CC20_340c'] != 8) & (df['CC20_340a'].isnull() == False) & (df['CC20_340c'].isnull() == False)]\n",
        "\n",
        "x_var = 'CC20_340a'\n",
        "y_var = 'CC20_340c'\n",
        "weight_col = 'commonweight'\n",
        "\n",
        "X = joe_regression[x_var]\n",
        "X = sm.add_constant(X)\n",
        "Y = joe_regression[y_var]\n",
        "weights = joe_regression[weight_col]\n",
        "\n",
        "wls_model = sm.WLS(Y, X, weights=weights)\n",
        "results = wls_model.fit()\n",
        "\n",
        "plt.scatter(joe_regression[x_var], joe_regression[y_var], s=joe_regression[weight_col]**1.2)\n",
        "\n",
        "plt.plot(joe_regression[x_var], results.predict(sm.add_constant(joe_regression[x_var])), c='orange')\n",
        "plt.xlabel('Self-Assessed Ideology')\n",
        "plt.ylabel('Ideological Rating of Biden')\n",
        "plt.show()"
      ],
      "metadata": {
        "id": "3OGkanzvOn2G",
        "colab": {
          "base_uri": "https://localhost:8080/",
          "height": 335
        },
        "outputId": "1c940e2c-1bed-4c5e-83a8-2a6e7a802462"
      },
      "execution_count": null,
      "outputs": [
        {
          "output_type": "stream",
          "name": "stderr",
          "text": [
            "/usr/local/lib/python3.8/dist-packages/statsmodels/tsa/tsatools.py:142: FutureWarning: In a future version of pandas all arguments of concat except for the argument 'objs' will be keyword-only\n",
            "  x = pd.concat(x[::order], 1)\n"
          ]
        },
        {
          "output_type": "display_data",
          "data": {
            "text/plain": [
              "<Figure size 432x288 with 1 Axes>"
            ],
            "image/png": "[encoded data removed]"
          },
          "metadata": {
            "needs_background": "light"
          }
        }
      ]
    },
    {
      "cell_type": "markdown",
      "source": [
        "### Step 4: Predicting Ideological Rating of Donald Trump\n",
        "\n",
        "\n",
        "\n",
        "*   Similarly, I analyzed how a respondent’s personal ideology predicts their ideological rating of Donald Trump by estimating a linear regression with Trump’s ideological rating as the dependent variable and self-assessed ideology as the independent variable. The analysis is also weighted by commonweight, excluding those unsure of their rating.\n",
        "\n",
        "\n",
        "*   The results show that most people classify Trump’s ideology as 'somewhat conservative' to 'middle'. There is a clear trend where the more liberal an individual is, the more conservative they perceive Trump to be.\n",
        "\n",
        "\n"
      ],
      "metadata": {
        "id": "IURByXGH2Xrl"
      }
    },
    {
      "cell_type": "code",
      "source": [
        "import pandas as pd\n",
        "import statsmodels.api as sm\n",
        "import matplotlib.pyplot as plt\n",
        "\n",
        "donald_regression = df[(df['CC20_340d'] != 8) & (df['CC20_340a'] != 8) & (df['CC20_340d'].isnull() == False) & (df['CC20_340a'].isnull() == False)]\n",
        "\n",
        "x_var1 = 'CC20_340d'\n",
        "y_var1 = 'CC20_340a'\n",
        "weight_column = 'commonweight'\n",
        "\n",
        "X = donald_regression[x_var1]\n",
        "X = sm.add_constant(X)\n",
        "Y = donald_regression[y_var1]\n",
        "weights = donald_regression[weight_column]\n",
        "\n",
        "wls_model = sm.WLS(Y, X, weights=weights)\n",
        "results = wls_model.fit()\n",
        "\n",
        "plt.scatter(donald_regression[x_var1], donald_regression[y_var1], s=donald_regression[weight_column]**1.2)\n",
        "\n",
        "plt.plot(donald_regression[x_var1], results.predict(sm.add_constant(donald_regression[x_var1])), c='orange')\n",
        "plt.xlabel('Ideological Rating of Trump')\n",
        "plt.ylabel('Self-Assessed Ideology')\n",
        "plt.show()"
      ],
      "metadata": {
        "id": "zN2OZGwg2hAO",
        "colab": {
          "base_uri": "https://localhost:8080/",
          "height": 335
        },
        "outputId": "eedc060a-19da-4cb4-ef87-10d66f61c8f8"
      },
      "execution_count": null,
      "outputs": [
        {
          "output_type": "stream",
          "name": "stderr",
          "text": [
            "/usr/local/lib/python3.8/dist-packages/statsmodels/tsa/tsatools.py:142: FutureWarning: In a future version of pandas all arguments of concat except for the argument 'objs' will be keyword-only\n",
            "  x = pd.concat(x[::order], 1)\n"
          ]
        },
        {
          "output_type": "display_data",
          "data": {
            "text/plain": [
              "<Figure size 432x288 with 1 Axes>"
            ],
            "image/png": "[encoded data removed]"
          },
          "metadata": {
            "needs_background": "light"
          }
        }
      ]
    },
    {
      "cell_type": "markdown",
      "source": [
        "Just like the linear regression for Joe Biden, this regression's scale ranges from liberal to conservative, respectfully. This visualization shows that most people would classify Trump's ideology as 'some conservative' to 'middle'. Even though there isn't much variance in how people classify Trump's ideology, their still a trend between the more liberal an individual is, the more conservative they would consider Trump to be."
      ],
      "metadata": {
        "id": "Mnx4xV9d2o40"
      }
    },
    {
      "cell_type": "markdown",
      "source": [
        "### Step 5: Comparison of Evaluations for Biden and Trump\n",
        "\n",
        "I compared the intercepts and coefficients from the regressions for Biden and Trump. The results highlight that evaluations are quite opposite: conservatives tend to see Biden as more liberal, and liberals tend to see Trump as more conservative. There is more agreement among respondents on Trump’s political stance compared to Biden’s, with Biden’s ratings ranging from 'middle' to 'very liberal' and Trump’s from 'middle' to 'somewhat conservative'."
      ],
      "metadata": {
        "id": "E1Ge2qBy2squ"
      }
    },
    {
      "cell_type": "markdown",
      "source": [
        "### Step 6: Evaluating Other Political Figures\n",
        "\n",
        "For additional analysis, I selected one of the ratings from questions CC20_340e–CC20_340f. I visualized the relationship between self-assessed ideology and the rating of the chosen entity, estimating a linear regression similar to the previous analyses. The graph indicates how respondents rate the GOP's ideology based on their self-identified political status. Most people consider the GOP as conservative, with the intercept between 'conservative' and 'very conservative'. The trend shows that the more liberal a respondent is, the more conservative they consider the GOP to be."
      ],
      "metadata": {
        "id": "1r6YVOvB2v42"
      }
    },
    {
      "cell_type": "code",
      "source": [
        "import pandas as pd\n",
        "import statsmodels.api as sm\n",
        "import matplotlib.pyplot as plt\n",
        "\n",
        "lin_reg = df[(df['CC20_340a'] != 8) & (df['CC20_340f'] != 8) & (df['CC20_340a'].isnull() == False) & (df['CC20_340f'].isnull() == False)]\n",
        "\n",
        "x_variable = 'CC20_340a'\n",
        "y_variable = 'CC20_340f'\n",
        "weight_column = 'commonweight'\n",
        "\n",
        "X = lin_reg[x_variable]\n",
        "X = sm.add_constant(X)\n",
        "Y = lin_reg[y_variable]\n",
        "weights = lin_reg[weight_column]\n",
        "\n",
        "wls_model = sm.WLS(Y, X, weights=weights)\n",
        "results = wls_model.fit()\n",
        "\n",
        "plt.scatter(lin_reg[x_variable], lin_reg[y_variable], s=lin_reg[weight_column]**1.2)\n",
        "\n",
        "plt.plot(lin_reg[x_variable], results.predict(sm.add_constant(lin_reg[x_variable])), c='orange')\n",
        "plt.xlabel('Self-Assessed Ideology')\n",
        "plt.ylabel('Ideological Rating of Republican Party')\n",
        "plt.show()"
      ],
      "metadata": {
        "colab": {
          "base_uri": "https://localhost:8080/",
          "height": 335
        },
        "id": "Fo1cJU3MkaE4",
        "outputId": "c6a27157-af24-41d5-877a-be08496e3c0e"
      },
      "execution_count": null,
      "outputs": [
        {
          "output_type": "stream",
          "name": "stderr",
          "text": [
            "/usr/local/lib/python3.8/dist-packages/statsmodels/tsa/tsatools.py:142: FutureWarning: In a future version of pandas all arguments of concat except for the argument 'objs' will be keyword-only\n",
            "  x = pd.concat(x[::order], 1)\n"
          ]
        },
        {
          "output_type": "display_data",
          "data": {
            "text/plain": [
              "<Figure size 432x288 with 1 Axes>"
            ],
            "image/png": "[encoded data removed]"
          },
          "metadata": {
            "needs_background": "light"
          }
        }
      ]
    },
    {
      "cell_type": "markdown",
      "source": [
        "### Conclusion\n",
        "\n",
        "This project demonstrates the significant impact of personal ideology on the perception of political figures' ideologies. The findings suggest that individuals tend to perceive opposing party figures as more extreme than they may actually be, and there is more consensus on Trump's ideological position than Biden’s. This analysis provides valuable insights into the polarized nature of political perceptions in the 2020 election."
      ],
      "metadata": {
        "id": "Mc8uvwkatOJF"
      }
    }
  ]
}